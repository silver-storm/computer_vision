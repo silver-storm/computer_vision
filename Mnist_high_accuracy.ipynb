{
  "nbformat": 4,
  "nbformat_minor": 0,
  "metadata": {
    "colab": {
      "name": "Mnist_high_accuracy.ipynb",
      "provenance": [],
      "collapsed_sections": []
    },
    "kernelspec": {
      "name": "python3",
      "display_name": "Python 3"
    }
  },
  "cells": [
    {
      "cell_type": "markdown",
      "metadata": {
        "id": "NWoK4fLMe_4D",
        "colab_type": "text"
      },
      "source": [
        "## Training a CNN on the MNIST Dataset "
      ]
    },
    {
      "cell_type": "code",
      "metadata": {
        "id": "ypgBd2hh6gXM",
        "colab_type": "code",
        "colab": {}
      },
      "source": [
        "import numpy as np\n",
        "import pandas as pd\n",
        "from tensorflow.keras.datasets import mnist\n",
        "import matplotlib.pyplot as plt\n",
        "%matplotlib inline"
      ],
      "execution_count": 0,
      "outputs": []
    },
    {
      "cell_type": "code",
      "metadata": {
        "id": "AkqQWtq160P5",
        "colab_type": "code",
        "outputId": "4a153a3d-9f68-447d-f65b-809e2d5c4e5d",
        "colab": {
          "base_uri": "https://localhost:8080/",
          "height": 51
        }
      },
      "source": [
        "(X_train,y_train),(X_test,y_test) = mnist.load_data()"
      ],
      "execution_count": 0,
      "outputs": [
        {
          "output_type": "stream",
          "text": [
            "Downloading data from https://storage.googleapis.com/tensorflow/tf-keras-datasets/mnist.npz\n",
            "11493376/11490434 [==============================] - 0s 0us/step\n"
          ],
          "name": "stdout"
        }
      ]
    },
    {
      "cell_type": "code",
      "metadata": {
        "id": "oJ-7joRL7wHL",
        "colab_type": "code",
        "outputId": "d122979f-efe8-42eb-ad3a-2cfc3802e0f7",
        "colab": {
          "base_uri": "https://localhost:8080/",
          "height": 282
        }
      },
      "source": [
        "sample_img = X_train[np.random.randint(0,len(X_train))] \n",
        "plt.imshow(sample_img,cmap='gray')"
      ],
      "execution_count": 0,
      "outputs": [
        {
          "output_type": "execute_result",
          "data": {
            "text/plain": [
              "<matplotlib.image.AxesImage at 0x7f3c4ed2b0f0>"
            ]
          },
          "metadata": {
            "tags": []
          },
          "execution_count": 3
        },
        {
          "output_type": "display_data",
          "data": {
            "image/png": "[encoded data removed]",
            "text/plain": [
              "<Figure size 432x288 with 1 Axes>"
            ]
          },
          "metadata": {
            "tags": []
          }
        }
      ]
    },
    {
      "cell_type": "code",
      "metadata": {
        "id": "vDVIScDs9VB6",
        "colab_type": "code",
        "outputId": "fdfc134c-7e14-411d-e59c-a7916cdd05fe",
        "colab": {
          "base_uri": "https://localhost:8080/",
          "height": 34
        }
      },
      "source": [
        "print(X_train.shape,y_train.shape)"
      ],
      "execution_count": 0,
      "outputs": [
        {
          "output_type": "stream",
          "text": [
            "(60000, 28, 28) (60000,)\n"
          ],
          "name": "stdout"
        }
      ]
    },
    {
      "cell_type": "code",
      "metadata": {
        "id": "liyCgW5k9yx7",
        "colab_type": "code",
        "colab": {}
      },
      "source": [
        "# Normalizing image values in range [0,1]\n",
        "X_train_sc = X_train/max(sample_img.ravel())\n",
        "X_test_sc = X_test/max(sample_img.ravel())"
      ],
      "execution_count": 0,
      "outputs": []
    },
    {
      "cell_type": "code",
      "metadata": {
        "id": "ODKg1MTj-3dn",
        "colab_type": "code",
        "outputId": "a9925840-dd9d-44aa-8406-57b190c6818d",
        "colab": {
          "base_uri": "https://localhost:8080/",
          "height": 282
        }
      },
      "source": [
        "plt.imshow(X_train[np.random.randint(0,len(X_train))],cmap='gray')"
      ],
      "execution_count": 0,
      "outputs": [
        {
          "output_type": "execute_result",
          "data": {
            "text/plain": [
              "<matplotlib.image.AxesImage at 0x7f3c4e8782e8>"
            ]
          },
          "metadata": {
            "tags": []
          },
          "execution_count": 6
        },
        {
          "output_type": "display_data",
          "data": {
            "image/png": "[encoded data removed]",
            "text/plain": [
              "<Figure size 432x288 with 1 Axes>"
            ]
          },
          "metadata": {
            "tags": []
          }
        }
      ]
    },
    {
      "cell_type": "code",
      "metadata": {
        "id": "q-9ZINin_kOc",
        "colab_type": "code",
        "outputId": "f188884c-b8ca-44a1-945f-ff63480f380d",
        "colab": {
          "base_uri": "https://localhost:8080/",
          "height": 34
        }
      },
      "source": [
        "# Reshaping input and validation data for training\n",
        "X_train = X_train_sc.reshape(len(X_train),28,28,1) \n",
        "X_test = X_test_sc.reshape(len(X_test),28,28,1)\n",
        "print(X_train.shape,X_test.shape)"
      ],
      "execution_count": 0,
      "outputs": [
        {
          "output_type": "stream",
          "text": [
            "(60000, 28, 28, 1) (10000, 28, 28, 1)\n"
          ],
          "name": "stdout"
        }
      ]
    },
    {
      "cell_type": "code",
      "metadata": {
        "id": "HyzFYyfD_zuA",
        "colab_type": "code",
        "outputId": "3665ca53-3883-40ea-99ba-2a6610edeb98",
        "colab": {
          "base_uri": "https://localhost:8080/",
          "height": 34
        }
      },
      "source": [
        "# Onehot encoding categorical data\n",
        "from tensorflow.keras.utils import to_categorical\n",
        "y_train = to_categorical(y_train)\n",
        "y_test = to_categorical(y_test)\n",
        "print(y_train.shape,y_test.shape)"
      ],
      "execution_count": 0,
      "outputs": [
        {
          "output_type": "stream",
          "text": [
            "(60000, 10) (10000, 10)\n"
          ],
          "name": "stdout"
        }
      ]
    },
    {
      "cell_type": "code",
      "metadata": {
        "id": "j6CCIZG1AQEA",
        "colab_type": "code",
        "colab": {}
      },
      "source": [
        "# CREATING THE MODEL\n",
        "\n",
        "from tensorflow.keras.models import Model\n",
        "from tensorflow.keras.layers import Dense, Input, Conv2D, MaxPooling2D, Flatten, BatchNormalization, Dropout"
      ],
      "execution_count": 0,
      "outputs": []
    },
    {
      "cell_type": "code",
      "metadata": {
        "id": "gScUxWqzAiA_",
        "colab_type": "code",
        "outputId": "bf960d85-241b-446f-8b95-8910c49ec64f",
        "colab": {
          "base_uri": "https://localhost:8080/",
          "height": 935
        }
      },
      "source": [
        "# I normally use functional API because I'm more comfortable with it.\n",
        "# Maxpooling was decreasing validation accuracy, so I didn't use it\n",
        "# The dropout seed was set randomly. \n",
        "\n",
        "I = Input(shape=(28,28,1))\n",
        "L = Conv2D(filters=32, kernel_size=3,activation='relu')(I)\n",
        "L = BatchNormalization()(L)\n",
        "L = Conv2D(filters=32, kernel_size=3,activation='relu')(L)\n",
        "L = BatchNormalization()(L)\n",
        "L = Conv2D(filters=32, kernel_size=3,activation='relu')(L)\n",
        "L = BatchNormalization()(L)\n",
        "L = Conv2D(filters=32, kernel_size=5,strides = 2,padding='same',activation='relu')(L)\n",
        "L = BatchNormalization()(L)\n",
        "L = Dropout(rate=0.4,seed=42)(L)\n",
        "\n",
        "L = Conv2D(filters=64, kernel_size=3,activation='relu')(L)\n",
        "L = BatchNormalization()(L)\n",
        "L = Conv2D(filters=64, kernel_size=3,activation='relu')(L)\n",
        "L = BatchNormalization()(L)\n",
        "L = Conv2D(filters=64, kernel_size=3,activation='relu')(L)\n",
        "L = BatchNormalization()(L)\n",
        "L = Conv2D(filters=64, kernel_size=5,strides=2,padding='same',activation='relu')(L)\n",
        "L = BatchNormalization()(L)\n",
        "L = Dropout(rate=0.4,seed=42)(L)\n",
        "\n",
        "L = Flatten()(L)\n",
        "\n",
        "L = Dense(units=128,activation='relu')(L)\n",
        "L = Dropout(rate=0.4,seed=42)(L)\n",
        "L = Dense(units=10,activation='softmax')(L)\n",
        "\n",
        "model = Model(inputs= I,outputs = L)\n",
        "model.compile(loss='categorical_crossentropy', optimizer='adam', metrics=['accuracy'])\n",
        "model.summary()"
      ],
      "execution_count": 0,
      "outputs": [
        {
          "output_type": "stream",
          "text": [
            "Model: \"model_2\"\n",
            "_________________________________________________________________\n",
            "Layer (type)                 Output Shape              Param #   \n",
            "=================================================================\n",
            "input_3 (InputLayer)         [(None, 28, 28, 1)]       0         \n",
            "_________________________________________________________________\n",
            "conv2d_12 (Conv2D)           (None, 26, 26, 32)        320       \n",
            "_________________________________________________________________\n",
            "batch_normalization_12 (Batc (None, 26, 26, 32)        128       \n",
            "_________________________________________________________________\n",
            "conv2d_13 (Conv2D)           (None, 24, 24, 32)        9248      \n",
            "_________________________________________________________________\n",
            "batch_normalization_13 (Batc (None, 24, 24, 32)        128       \n",
            "_________________________________________________________________\n",
            "conv2d_14 (Conv2D)           (None, 22, 22, 32)        9248      \n",
            "_________________________________________________________________\n",
            "batch_normalization_14 (Batc (None, 22, 22, 32)        128       \n",
            "_________________________________________________________________\n",
            "conv2d_15 (Conv2D)           (None, 11, 11, 32)        25632     \n",
            "_________________________________________________________________\n",
            "batch_normalization_15 (Batc (None, 11, 11, 32)        128       \n",
            "_________________________________________________________________\n",
            "dropout_6 (Dropout)          (None, 11, 11, 32)        0         \n",
            "_________________________________________________________________\n",
            "conv2d_16 (Conv2D)           (None, 9, 9, 64)          18496     \n",
            "_________________________________________________________________\n",
            "batch_normalization_16 (Batc (None, 9, 9, 64)          256       \n",
            "_________________________________________________________________\n",
            "conv2d_17 (Conv2D)           (None, 7, 7, 64)          36928     \n",
            "_________________________________________________________________\n",
            "batch_normalization_17 (Batc (None, 7, 7, 64)          256       \n",
            "_________________________________________________________________\n",
            "conv2d_18 (Conv2D)           (None, 5, 5, 64)          36928     \n",
            "_________________________________________________________________\n",
            "batch_normalization_18 (Batc (None, 5, 5, 64)          256       \n",
            "_________________________________________________________________\n",
            "conv2d_19 (Conv2D)           (None, 3, 3, 64)          102464    \n",
            "_________________________________________________________________\n",
            "batch_normalization_19 (Batc (None, 3, 3, 64)          256       \n",
            "_________________________________________________________________\n",
            "dropout_7 (Dropout)          (None, 3, 3, 64)          0         \n",
            "_________________________________________________________________\n",
            "flatten_2 (Flatten)          (None, 576)               0         \n",
            "_________________________________________________________________\n",
            "dense_4 (Dense)              (None, 128)               73856     \n",
            "_________________________________________________________________\n",
            "dropout_8 (Dropout)          (None, 128)               0         \n",
            "_________________________________________________________________\n",
            "dense_5 (Dense)              (None, 10)                1290      \n",
            "=================================================================\n",
            "Total params: 315,946\n",
            "Trainable params: 315,178\n",
            "Non-trainable params: 768\n",
            "_________________________________________________________________\n"
          ],
          "name": "stdout"
        }
      ]
    },
    {
      "cell_type": "markdown",
      "metadata": {
        "id": "l5rZc3d6gKNG",
        "colab_type": "text"
      },
      "source": [
        "#### Please note that I didn't use earlystopping because the reduction rate of loss(both training and validation) was haphazard due to high dropout."
      ]
    },
    {
      "cell_type": "code",
      "metadata": {
        "id": "HoeDcpcIESaD",
        "colab_type": "code",
        "outputId": "c6626e9f-0608-425a-8d17-7616db56350d",
        "colab": {
          "base_uri": "https://localhost:8080/",
          "height": 697
        }
      },
      "source": [
        "#from tensorflow.keras.callbacks import EarlyStopping\n",
        "#overfit_ctl = EarlyStopping(monitor='val_loss',patience=5)\n",
        "\n",
        "Fit_history = model.fit(X_train,y_train,epochs=20,validation_data=(X_test,y_test),callbacks=[overfit_ctl])"
      ],
      "execution_count": 0,
      "outputs": [
        {
          "output_type": "stream",
          "text": [
            "Epoch 1/20\n",
            "1875/1875 [==============================] - 285s 152ms/step - loss: 0.1970 - accuracy: 0.9406 - val_loss: 0.0685 - val_accuracy: 0.9819\n",
            "Epoch 2/20\n",
            "1875/1875 [==============================] - 286s 152ms/step - loss: 0.0812 - accuracy: 0.9765 - val_loss: 0.0372 - val_accuracy: 0.9887\n",
            "Epoch 3/20\n",
            "1875/1875 [==============================] - 286s 152ms/step - loss: 0.0675 - accuracy: 0.9809 - val_loss: 0.0316 - val_accuracy: 0.9916\n",
            "Epoch 4/20\n",
            "1875/1875 [==============================] - 287s 153ms/step - loss: 0.0572 - accuracy: 0.9837 - val_loss: 0.0516 - val_accuracy: 0.9885\n",
            "Epoch 5/20\n",
            "1875/1875 [==============================] - 288s 154ms/step - loss: 0.0486 - accuracy: 0.9864 - val_loss: 0.0232 - val_accuracy: 0.9928\n",
            "Epoch 6/20\n",
            "1875/1875 [==============================] - 284s 151ms/step - loss: 0.0444 - accuracy: 0.9872 - val_loss: 0.0284 - val_accuracy: 0.9924\n",
            "Epoch 7/20\n",
            "1875/1875 [==============================] - 282s 151ms/step - loss: 0.0380 - accuracy: 0.9894 - val_loss: 0.0215 - val_accuracy: 0.9932\n",
            "Epoch 8/20\n",
            "1875/1875 [==============================] - 283s 151ms/step - loss: 0.0366 - accuracy: 0.9897 - val_loss: 0.0227 - val_accuracy: 0.9937\n",
            "Epoch 9/20\n",
            "1875/1875 [==============================] - 286s 153ms/step - loss: 0.0320 - accuracy: 0.9904 - val_loss: 0.0287 - val_accuracy: 0.9923\n",
            "Epoch 10/20\n",
            "1875/1875 [==============================] - 285s 152ms/step - loss: 0.0282 - accuracy: 0.9918 - val_loss: 0.0252 - val_accuracy: 0.9931\n",
            "Epoch 11/20\n",
            "1875/1875 [==============================] - 286s 152ms/step - loss: 0.0274 - accuracy: 0.9923 - val_loss: 0.0222 - val_accuracy: 0.9938\n",
            "Epoch 12/20\n",
            "1875/1875 [==============================] - 284s 152ms/step - loss: 0.0264 - accuracy: 0.9925 - val_loss: 0.0175 - val_accuracy: 0.9951\n",
            "Epoch 13/20\n",
            "1875/1875 [==============================] - 283s 151ms/step - loss: 0.0219 - accuracy: 0.9937 - val_loss: 0.0205 - val_accuracy: 0.9939\n",
            "Epoch 14/20\n",
            "1875/1875 [==============================] - 286s 153ms/step - loss: 0.0216 - accuracy: 0.9941 - val_loss: 0.0206 - val_accuracy: 0.9945\n",
            "Epoch 15/20\n",
            "1875/1875 [==============================] - 282s 150ms/step - loss: 0.0208 - accuracy: 0.9941 - val_loss: 0.0168 - val_accuracy: 0.9957\n",
            "Epoch 16/20\n",
            "1875/1875 [==============================] - 281s 150ms/step - loss: 0.0189 - accuracy: 0.9944 - val_loss: 0.0212 - val_accuracy: 0.9950\n",
            "Epoch 17/20\n",
            "1875/1875 [==============================] - 283s 151ms/step - loss: 0.0188 - accuracy: 0.9945 - val_loss: 0.0191 - val_accuracy: 0.9947\n",
            "Epoch 18/20\n",
            "1875/1875 [==============================] - 281s 150ms/step - loss: 0.0157 - accuracy: 0.9954 - val_loss: 0.0227 - val_accuracy: 0.9944\n",
            "Epoch 19/20\n",
            "1875/1875 [==============================] - 281s 150ms/step - loss: 0.0159 - accuracy: 0.9955 - val_loss: 0.0238 - val_accuracy: 0.9951\n",
            "Epoch 20/20\n",
            "1875/1875 [==============================] - 281s 150ms/step - loss: 0.0156 - accuracy: 0.9954 - val_loss: 0.0180 - val_accuracy: 0.9957\n"
          ],
          "name": "stdout"
        }
      ]
    },
    {
      "cell_type": "markdown",
      "metadata": {
        "id": "km3qIQM5egtb",
        "colab_type": "text"
      },
      "source": [
        "### We obtain a model acuracy of 99.57% validation accuracy(could have stopped at 15, but just to be sure it can't be improved, I let it run for a few more epochs)."
      ]
    },
    {
      "cell_type": "code",
      "metadata": {
        "id": "WQJ9pfkSE6gx",
        "colab_type": "code",
        "outputId": "c0436191-afac-42d9-eb69-84d31c6d2339",
        "colab": {
          "base_uri": "https://localhost:8080/",
          "height": 598
        }
      },
      "source": [
        "print(\"Model fitting history:\", Fit_history)\n",
        "print(Fit_history.history.keys())\n",
        "\n",
        "plt.style.use('ggplot')\n",
        "\n",
        "# Plotting Losses\n",
        "plt.plot(Fit_history.history['loss'],'r', label='Training Loss')\n",
        "plt.plot(Fit_history.history['val_loss'],'k', label='Validation Loss')\n",
        "plt.title('Loss Variation')\n",
        "plt.legend()\n",
        "plt.show()\n",
        "\n",
        "# Plotting accuracies\n",
        "plt.plot(Fit_history.history['accuracy'], 'r',  label='Training Accuracy')\n",
        "plt.plot(Fit_history.history['val_accuracy'],'k', label='Validation Accuracy')\n",
        "plt.title('Accuracy Variation')\n",
        "plt.legend()\n",
        "plt.show()\n"
      ],
      "execution_count": 0,
      "outputs": [
        {
          "output_type": "stream",
          "text": [
            "Model fitting history: <tensorflow.python.keras.callbacks.History object at 0x7f3c429e2240>\n",
            "dict_keys(['loss', 'accuracy', 'val_loss', 'val_accuracy'])\n",
            "ERROR! Session/line number was not unique in database. History logging moved to new session 60\n"
          ],
          "name": "stdout"
        },
        {
          "output_type": "display_data",
          "data": {
            "image/png": "[encoded data removed]",
            "text/plain": [
              "<Figure size 432x288 with 1 Axes>"
            ]
          },
          "metadata": {
            "tags": []
          }
        },
        {
          "output_type": "display_data",
          "data": {
            "image/png": "[encoded data removed]",
            "text/plain": [
              "<Figure size 432x288 with 1 Axes>"
            ]
          },
          "metadata": {
            "tags": []
          }
        }
      ]
    },
    {
      "cell_type": "code",
      "metadata": {
        "id": "qjkHcEuCFubU",
        "colab_type": "code",
        "colab": {}
      },
      "source": [
        ""
      ],
      "execution_count": 0,
      "outputs": []
    }
  ]
}